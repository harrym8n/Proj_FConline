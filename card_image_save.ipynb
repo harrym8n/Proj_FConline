{
 "cells": [
  {
   "cell_type": "markdown",
   "metadata": {},
   "source": [
    "#### 카드 시즌 이미지 가져오기"
   ]
  },
  {
   "cell_type": "code",
   "execution_count": 3,
   "metadata": {},
   "outputs": [
    {
     "data": {
      "text/plain": [
       "<img src=\"//static.inven.co.kr/image_2011/site_image/fifaonline4/seasonicon2/season_icon_100.png?v=250117a\" title=\"ICON The Moment\"/>"
      ]
     },
     "execution_count": 3,
     "metadata": {},
     "output_type": "execute_result"
    }
   ],
   "source": [
    "import requests\n",
    "from bs4 import BeautifulSoup\n",
    "import os\n",
    "\n",
    "res = requests.get('https://fifaonline4.inven.co.kr/dataninfo/player/')\n",
    "soup = BeautifulSoup(res.text, 'html.parser')\n",
    "\n",
    "urls = soup.select('.fifa4.value.season.clearfix > label.checkbox > img')\n",
    "urls[0]"
   ]
  },
  {
   "cell_type": "code",
   "execution_count": 4,
   "metadata": {},
   "outputs": [],
   "source": [
    "# 이미지 저장 폴더 설정\n",
    "save_folder = 'loge_image'\n",
    "os.makedirs(save_folder, exist_ok=True)\n",
    "\n",
    "# FIFA Online 4 선수 데이터 페이지 요청\n",
    "res = requests.get('https://fifaonline4.inven.co.kr/dataninfo/player/')\n",
    "soup = BeautifulSoup(res.text, 'html.parser')\n",
    "\n",
    "# 이미지 URL 가져오기\n",
    "urls = soup.select('.fifa4.value.season.clearfix > label.checkbox > img')\n",
    "\n",
    "for url in urls:\n",
    "    image_url = 'https:{}'.format(str(url).split('\"')[1])\n",
    "    response = requests.get(image_url)\n",
    "\n",
    "    # 파일명 생성 및 저장 경로 설정\n",
    "    filename = '{}.png'.format(str(url).split('\"')[3])\n",
    "    file_path = os.path.join(save_folder, filename)\n",
    "\n",
    "    # 이미지 파일 저장\n",
    "    with open(file_path, 'wb') as f:\n",
    "        f.write(response.content)"
   ]
  }
 ],
 "metadata": {
  "kernelspec": {
   "display_name": "Python 3",
   "language": "python",
   "name": "python3"
  },
  "language_info": {
   "codemirror_mode": {
    "name": "ipython",
    "version": 3
   },
   "file_extension": ".py",
   "mimetype": "text/x-python",
   "name": "python",
   "nbconvert_exporter": "python",
   "pygments_lexer": "ipython3",
   "version": "3.10.9"
  }
 },
 "nbformat": 4,
 "nbformat_minor": 2
}
